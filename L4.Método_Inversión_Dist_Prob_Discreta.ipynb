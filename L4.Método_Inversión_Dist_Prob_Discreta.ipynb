{
 "cells": [
  {
   "cell_type": "code",
   "execution_count": 7,
   "metadata": {
    "collapsed": false
   },
   "outputs": [
    {
     "name": "stdout",
     "output_type": "stream",
     "text": [
      "Generated numbers:  [1, 6, 1, 4, 6, 2]\n"
     ]
    }
   ],
   "source": [
    "def congruencial(a, b, m, x0, n):\n",
    "    randoms = []\n",
    "    for i in range(n):\n",
    "        xn = float((a * x0 + b) % m)\n",
    "        x0 = xn\n",
    "        random = float(xn/m)\n",
    "        randoms.append(random)\n",
    "    return randoms\n",
    "\n",
    "def inversion(u, x, px):   \n",
    "    dAcum = []\n",
    "    currentSum = 0\n",
    "    for i in range(len(x)):\n",
    "        dAcum.append(currentSum + px[i])\n",
    "        currentSum += px[i]\n",
    "\n",
    "    gen = []\n",
    "    for Ui in u:\n",
    "        for j in range(len(dAcum)):\n",
    "            if(Ui <= dAcum[j]):\n",
    "                gen.append(x[j])\n",
    "                break\n",
    "    return gen\n",
    "    \n",
    "x = [1,2,3,4,5,6]\n",
    "px = [0.2,0.1,0.05,0.2,0.05,0.4]\n",
    "u = congruencial(170, 3, 30323, 7, 6)\n",
    "#u = [0.4280, 0.5609, 0.0258, 0.6531, 0.8487, 0.0332, 0.6790, 0.4391]\n",
    "print \"Generated numbers: \",inversion(u,x,px)\n",
    "      "
   ]
  },
  {
   "cell_type": "code",
   "execution_count": null,
   "metadata": {
    "collapsed": true
   },
   "outputs": [],
   "source": []
  }
 ],
 "metadata": {
  "kernelspec": {
   "display_name": "Python 2",
   "language": "python",
   "name": "python2"
  },
  "language_info": {
   "codemirror_mode": {
    "name": "ipython",
    "version": 2
   },
   "file_extension": ".py",
   "mimetype": "text/x-python",
   "name": "python",
   "nbconvert_exporter": "python",
   "pygments_lexer": "ipython2",
   "version": "2.7.10"
  }
 },
 "nbformat": 4,
 "nbformat_minor": 1
}
