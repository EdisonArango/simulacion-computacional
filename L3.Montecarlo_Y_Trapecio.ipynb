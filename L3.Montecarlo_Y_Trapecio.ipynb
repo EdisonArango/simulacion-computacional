{
 "cells": [
  {
   "cell_type": "code",
   "execution_count": 5,
   "metadata": {
    "collapsed": false,
    "scrolled": false
   },
   "outputs": [
    {
     "name": "stdout",
     "output_type": "stream",
     "text": [
      "Monte Carlo: 0.887005066324\n",
      "Trapecio: 0.879752066108\n",
      "Diff:  0.00725300021582\n"
     ]
    }
   ],
   "source": [
    "import numpy as np\n",
    "\n",
    "def congruencial(a, b, m, x0, n):\n",
    "    randoms = []\n",
    "    for i in range(n):\n",
    "        xn = float((a * x0 + b) % m)\n",
    "        x0 = xn\n",
    "        random = float(xn/m)\n",
    "        randoms.append(random)\n",
    "    return randoms\n",
    "\n",
    "def montecarlo(n):\n",
    "    x = congruencial(123213, 34821912, 283402912823, 5, n)\n",
    "    y=0\n",
    "    for i in range(n):\n",
    "        x[i] = 2 * x[i]\n",
    "        y += 2 * np.exp(-x[i]*x[i])\n",
    "    return y/n\n",
    "\n",
    "def trapecio():\n",
    "    x2=paso=0.1\n",
    "    suma=fx2=t=x1=0\n",
    "    while x2<=2:\n",
    "        fx2 = np.exp(-x2*x2)\n",
    "        t = (np.exp(-x1*x1)-fx2)*paso/2;\n",
    "        suma += t+fx2*paso\n",
    "        x1=x2\n",
    "        x2+=paso\n",
    "    return suma\n",
    "\n",
    "montCarlo = montecarlo(10000)\n",
    "trapecio = trapecio()\n",
    "print \"Monte Carlo: \"+str(montCarlo)   \n",
    "print \"Trapecio: \"+str(trapecio)\n",
    "print \"Diff: \",montCarlo - trapecio\n",
    "    "
   ]
  },
  {
   "cell_type": "code",
   "execution_count": null,
   "metadata": {
    "collapsed": true
   },
   "outputs": [],
   "source": []
  }
 ],
 "metadata": {
  "kernelspec": {
   "display_name": "Python 2",
   "language": "python",
   "name": "python2"
  },
  "language_info": {
   "codemirror_mode": {
    "name": "ipython",
    "version": 2
   },
   "file_extension": ".py",
   "mimetype": "text/x-python",
   "name": "python",
   "nbconvert_exporter": "python",
   "pygments_lexer": "ipython2",
   "version": "2.7.10"
  }
 },
 "nbformat": 4,
 "nbformat_minor": 1
}
