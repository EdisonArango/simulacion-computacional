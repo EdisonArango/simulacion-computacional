{
 "cells": [
  {
   "cell_type": "code",
   "execution_count": 16,
   "metadata": {
    "collapsed": false
   },
   "outputs": [
    {
     "name": "stdout",
     "output_type": "stream",
     "text": [
      "Seed number: 1234\n",
      "Number of random numbers you want to generate: 10\n",
      "Generated numbers: ['0,5227', '0,3215', '0,3362', '0,3030', '0,1809', '0,2724', '0,4201', '0,6484', '0,0422', '0,1780']\n"
     ]
    }
   ],
   "source": [
    "def midsquare(seed, n):\n",
    "    randoms = []\n",
    "    m = len(str(seed))/2\n",
    "    l = 2*len(str(seed))\n",
    "    for i in range(n):\n",
    "        r = str(seed ** 2)\n",
    "        for i in range(l - len(r)):\n",
    "            r = '0' + r\n",
    "        \n",
    "        random = r[m:-m]\n",
    "        seed = int(random)\n",
    "        random = '0,' + random\n",
    "        randoms.append(random)\n",
    "    return randoms\n",
    "        \n",
    "seed=int(raw_input('Seed number: '))\n",
    "n=int(raw_input('Number of random numbers you want to generate: '))\n",
    "print \"Generated numbers:\",midsquare(seed, n)\n",
    "    \n",
    "            "
   ]
  },
  {
   "cell_type": "code",
   "execution_count": null,
   "metadata": {
    "collapsed": true
   },
   "outputs": [],
   "source": []
  }
 ],
 "metadata": {
  "kernelspec": {
   "display_name": "Python 2",
   "language": "python",
   "name": "python2"
  },
  "language_info": {
   "codemirror_mode": {
    "name": "ipython",
    "version": 2
   },
   "file_extension": ".py",
   "mimetype": "text/x-python",
   "name": "python",
   "nbconvert_exporter": "python",
   "pygments_lexer": "ipython2",
   "version": "2.7.10"
  }
 },
 "nbformat": 4,
 "nbformat_minor": 1
}
