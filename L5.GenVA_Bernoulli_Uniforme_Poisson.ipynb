{
 "cells": [
  {
   "cell_type": "code",
   "execution_count": 11,
   "metadata": {
    "collapsed": false
   },
   "outputs": [
    {
     "name": "stdout",
     "output_type": "stream",
     "text": [
      "Select the distribution:\n",
      "1.- Uniforme\n",
      "2.- Bernoulli\n",
      "3.- Poisson\n",
      "Option: 1\n",
      "Input a: 2\n",
      "Input b: 5\n",
      "Input the amount of random numbers to generate: 10\n",
      "Generated numbers:  [2, 4, 2, 3, 4, 2, 2, 4, 3, 3]\n"
     ]
    }
   ],
   "source": [
    "import math\n",
    "\n",
    "def congruencial(a, b, m, x0, n):\n",
    "    randoms = []\n",
    "    for i in range(n):\n",
    "        xn = float((a * x0 + b) % m)\n",
    "        x0 = xn\n",
    "        random = float(xn/m)\n",
    "        randoms.append(random)\n",
    "    return randoms\n",
    "\n",
    "def inversion(u, x, px):   \n",
    "    dAcum = []\n",
    "    currentSum = 0\n",
    "    for i in range(len(x)):\n",
    "        dAcum.append(currentSum + px[i])\n",
    "        currentSum += px[i]\n",
    "\n",
    "    gen = []\n",
    "    for Ui in u:\n",
    "        for j in range(len(dAcum)):\n",
    "            if(Ui <= dAcum[j]):\n",
    "                gen.append(x[j])\n",
    "                break\n",
    "    return gen\n",
    "\n",
    "def bernoulli(p):\n",
    "    x = [0,1]\n",
    "    Px = [(1-p),p]\n",
    "    return x, Px\n",
    "\n",
    "def uniforme(a,b):\n",
    "    x=[]\n",
    "    Px=[]\n",
    "    c = float(b - a)\n",
    "    for i in range (a,b):\n",
    "        x.append(i)\n",
    "        Px.append(1/c)\n",
    "    return x, Px\n",
    "        \n",
    "def poisson(_lambda, k):\n",
    "    x=[]\n",
    "    Px=[]\n",
    "    for i in range (k):\n",
    "        x.append(i)\n",
    "        val = (math.exp(-_lambda) * (_lambda**i))/math.factorial(i) \n",
    "        Px.append(val)   \n",
    "    return x, Px\n",
    "\n",
    "def main():\n",
    "    print (\"Select the distribution:\\n1.- Uniforme\\n2.- Bernoulli\\n3.- Poisson\")\n",
    "    opt = int(raw_input(\"Option: \"))\n",
    "\n",
    "    x = []\n",
    "    Px = []\n",
    "    if opt == 1:\n",
    "        a = int(raw_input(\"Input a: \"))\n",
    "        b = int(raw_input(\"Input b: \"))\n",
    "        x, Px = uniforme(a, b)\n",
    "    elif opt == 2:\n",
    "        p = float(raw_input(\"Input p (Between 0 and 1): \"))\n",
    "        x, Px = bernoulli(p)\n",
    "    elif opt == 3:\n",
    "        l = float(raw_input(\"Input lambda: \"))\n",
    "        k = int(raw_input(\"Input k: \"))\n",
    "        x, Px = poisson(l, k)\n",
    "    \n",
    "    n = int(raw_input(\"Input the amount of random numbers to generate: \"))\n",
    "    u = congruencial(170, 3, 30323, 7, n)\n",
    "    #u = [0.4280, 0.5609, 0.0258, 0.6531, 0.8487, 0.0332, 0.6790, 0.4391]\n",
    "    print \"Generated numbers: \",inversion(u, x, Px)\n",
    "    \n",
    "main()"
   ]
  },
  {
   "cell_type": "code",
   "execution_count": null,
   "metadata": {
    "collapsed": true
   },
   "outputs": [],
   "source": []
  }
 ],
 "metadata": {
  "kernelspec": {
   "display_name": "Python 2",
   "language": "python",
   "name": "python2"
  }
 },
 "nbformat": 4,
 "nbformat_minor": 1
}
